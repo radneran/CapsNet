{
 "cells": [
  {
   "cell_type": "code",
   "execution_count": 1,
   "metadata": {},
   "outputs": [
    {
     "name": "stderr",
     "output_type": "stream",
     "text": [
      "/home/naren/.local/lib/python3.6/site-packages/h5py/__init__.py:36: FutureWarning: Conversion of the second argument of issubdtype from `float` to `np.floating` is deprecated. In future, it will be treated as `np.float64 == np.dtype(float).type`.\n",
      "  from ._conv import register_converters as _register_converters\n"
     ]
    }
   ],
   "source": [
    "import tensorflow as tf\n",
    "import numpy as np\n",
    "import pandas as pd\n",
    "import matplotlib.pyplot as plt\n",
    "from PIL import Image\n",
    "from tqdm import tqdm"
   ]
  },
  {
   "cell_type": "code",
   "execution_count": 2,
   "metadata": {},
   "outputs": [],
   "source": [
    "def safe_norm(ivec,eps=10**-7,axis=-1):\n",
    "    ovec = tf.reduce_sum(tf.square(ivec),axis=axis,keepdims=True)\n",
    "    ovec = tf.sqrt(ovec + eps)\n",
    "    return ovec\n",
    "def squash(s_j, eps=10**-7, name = None, axis=-1):\n",
    "    #v_j = (np.linalg.norm(s_j)**2/(1 + np.linalg.norm(s_j)**2)) * (s_j/np.linalg.norm(s_j))\n",
    "    with tf.name_scope(name, default_name='squash'):\n",
    "        sq_norm = tf.square(safe_norm(s_j,axis=axis))\n",
    "        v_j = (sq_norm / (1 + sq_norm)) * (s_j/(safe_norm(s_j) + eps))\n",
    "        return v_j\n"
   ]
  },
  {
   "cell_type": "code",
   "execution_count": 7,
   "metadata": {
    "scrolled": false
   },
   "outputs": [],
   "source": [
    "im_shape = (28,28,1)\n",
    "k = 9\n",
    "\n",
    "X = tf.placeholder(tf.float32,(None,) + im_shape)\n",
    "num_pri_caps, num_pri_dims, num_dig_caps, num_dig_dims = 32*36, 8, 10, 16\n",
    "#Feature extraction layer\n",
    "c1 = tf.layers.Conv2D(256,(k,k),name='conv1')(X)\n",
    "#Primary capsules\n",
    "c2 = tf.layers.Conv2D(256,(k,k),strides=(2,2),name='conv2')(c1)\n",
    "#c2 = tf.layers.Conv2D(256,(3,3),name='conv2')(c2)\n",
    "pri_caps_raw = tf.reshape(c2, [-1,num_pri_caps,num_pri_dims], name = 'pri_caps_raw')\n",
    "pri_caps_output = squash(pri_caps_raw)\n",
    "\n",
    "#Digit capsules\n",
    "init_sigma = 0.01\n",
    "W_init = tf.random_normal(shape=(1,num_pri_caps,num_dig_caps,num_dig_dims, num_pri_dims),\n",
    "                         stddev=init_sigma, dtype=tf.float32,name='W_init')\n",
    "W = tf.Variable(W_init, name='W')\n",
    "batch_size = tf.shape(X)[0]\n",
    "#Following steps for one-shot matmul \n",
    "W_tiled = tf.tile(W,[batch_size,1,1,1,1],name='W_tiled')\n",
    "\n",
    "'''\n",
    "Reshape pri_cap output as column vector \n",
    "None,1152,8 to None,1152,8,1\n",
    "'''\n",
    "\n",
    "pri_caps_expanded = tf.expand_dims(pri_caps_output,-1,name='pri_caps_expanded')\n",
    "'''\n",
    "Add dimension for number of digit caps \n",
    "None,1152,8,1 to None,1152,1,8,1\n",
    "'''\n",
    "pri_caps_expanded = tf.expand_dims(pri_caps_expanded,2,name='pri_caps_expanded2')\n",
    "'''None,1152,1,8,1 to None,1152,10,8,1'''\n",
    "pri_caps_tiled = tf.tile(pri_caps_expanded, [1,1,num_dig_caps,1,1],name='pri_caps_tiled')\n",
    "\n",
    "'''\n",
    "Prediction u_j|i = dot(W_ij, u_i) --> Affine transform\n",
    "where W_ij is a transformation matrix that will be learned\n",
    "'''\n",
    "\n",
    "dig_caps_predicted = tf.matmul(W_tiled,pri_caps_tiled,name='dig_caps_predicted')\n",
    "\n",
    "##########-----ROUTING-----############\n",
    "\n",
    "def condition(b_ij, v_j, counter, num_iterations):\n",
    "    return counter < num_iterations\n",
    "#Takes in routing weights and outputs updated weights\n",
    "def routing(b_ij, agreement, counter, num_iterations):\n",
    "    #c_i = softmax(b_i) --> along dig_caps dimension\n",
    "    c_ij = tf.nn.softmax(b_ij,dim=2,name='routing_coeffs')\n",
    "\n",
    "    '''\n",
    "    s_j = sum(c_ij * u_j|i)\n",
    "    where c_ij contains coupling coefficients \n",
    "    that will be determined by routing\n",
    "    s_j is the raw output vector that represents the \n",
    "    instantiation parameters of each digit\n",
    "    shape will be batch_size x 10 x 16 x 1\n",
    "    '''\n",
    "    #Keep_dims = true, otherwise s_j will be rank 4\n",
    "    #==> Shape = None,1,10,16,1\n",
    "    s_j = tf.reduce_sum(c_ij * dig_caps_predicted,axis=1,keepdims=True, name='weighted_sum')\n",
    "    v_j = squash(s_j)\n",
    "    #Make a copy of v_j for each primary capsule\n",
    "    v_j_tiled = tf.tile(v_j,[1,num_pri_caps,1,1,1],name='v_j_tiled')\n",
    "    agreement = tf.matmul(dig_caps_predicted,v_j_tiled,transpose_a=True,name='agreement')\n",
    "    counter += 1\n",
    "    return b_ij + agreement, v_j, counter, num_iterations\n",
    "\n",
    "#extra ones at the end to keep it same rank as W\n",
    "b_ij = tf.zeros([batch_size,num_pri_caps,num_dig_caps,1,1],dtype=tf.float32,name='b_ij')\n",
    "num_iterations = 3\n",
    "counter = tf.constant(0)\n",
    "v_j=tf.zeros([batch_size,1,num_dig_caps,num_dig_dims,1],dtype=tf.float32,name='v_j_init')\n",
    "#Dynamic loop keeps tf graph small\n",
    "final_routing_weights, dig_caps_output, _,_ = tf.while_loop(condition,routing,[b_ij,v_j,counter,num_iterations])\n",
    "y_prob = safe_norm(dig_caps_output,axis=-2)\n",
    "y=tf.placeholder(tf.int32,shape=[None,1])\n",
    "######----Margin Loss----#########\n",
    "T = tf.one_hot(y,depth=num_dig_caps,name='T')\n",
    "T = tf.reshape(T,tf.shape(y_prob))\n",
    "m_pos = 0.9\n",
    "m_neg = 0.1\n",
    "lamb = 0.5\n",
    "L_margin = tf.reduce_mean(tf.reduce_sum(T*tf.square(tf.maximum(0.,m_pos-y_prob)) + lamb*(tf.ones_like(T)-T) * tf.square(tf.maximum(0.,y_prob-m_neg)),axis=2))\n",
    "\n",
    "#############-------------Decoder-----------------#######################\n",
    "n_hidden = 512\n",
    "n2_hidden = 1024\n",
    "out_size = 28 * 28\n",
    "alpha = 0.2\n",
    "r_alpha = 0.0005\n",
    "with tf.name_scope('decoder'):\n",
    "    dc_in = tf.placeholder(tf.float32,shape=(None,16))\n",
    "    dc_1 = tf.layers.Dense(n_hidden,input_shape=(None,16))(dc_in)#(tf.reshape(dig_caps_output[:,:,y[0][0],:,:],[-1,16]))\n",
    "    dc_1 = tf.maximum(dc_1, alpha*dc_1)\n",
    "    dc_2 = tf.layers.Dense(n2_hidden)(dc_1)\n",
    "    dc_2 = tf.maximum(dc_2, alpha*dc_2)\n",
    "    dc_out = tf.layers.Dense(out_size,activation=tf.nn.sigmoid)(dc_2)\n",
    "    #Squared difference between reconstructed images and input images\n",
    "    reconstruction_loss = tf.reduce_sum(tf.square(tf.reshape(X,[-1,out_size]) - dc_out))\n",
    "L_total = L_margin + r_alpha*reconstruction_loss\n",
    "#L_sum = tf.reduce_sum(L_total)\n",
    "adam = tf.train.AdamOptimizer()\n",
    "train = adam.minimize(L_total)\n",
    "epochs = 50\n"
   ]
  },
  {
   "cell_type": "code",
   "execution_count": 4,
   "metadata": {},
   "outputs": [],
   "source": [
    "df = pd.read_csv('train.csv')"
   ]
  },
  {
   "cell_type": "code",
   "execution_count": 5,
   "metadata": {},
   "outputs": [],
   "source": [
    "labels = np.asarray(df.label).reshape(42000,1)\n",
    "train_x = np.asarray(df[df.columns[1:]])/255.0\n",
    "saver = tf.train.Saver()"
   ]
  },
  {
   "cell_type": "code",
   "execution_count": 8,
   "metadata": {},
   "outputs": [
    {
     "name": "stdout",
     "output_type": "stream",
     "text": [
      "INFO:tensorflow:Restoring parameters from ../checkpoints/capsnet_v1.ckpt\n",
      "[[[5]]]\n"
     ]
    },
    {
     "data": {
      "image/png": "[encoded data removed]",
      "text/plain": [
       "<Figure size 432x288 with 1 Axes>"
      ]
     },
     "metadata": {},
     "output_type": "display_data"
    }
   ],
   "source": [
    "idx = 0\n",
    "with tf.Session() as sess:\n",
    "    sess.run(tf.global_variables_initializer())\n",
    "    saver.restore(sess, '../checkpoints/capsnet_v1.ckpt')\n",
    "    instantiation_vectors = sess.run(dig_caps_output,{X:train_x[idx].reshape((1,)+im_shape),y:labels[idx].reshape(1,1)})\n",
    "    print(sess.run(tf.arg_max(tf.reduce_sum(instantiation_vectors,axis=-2),dimension=2)))\n",
    "    recon = sess.run(dc_out,{dc_in:instantiation_vectors[:,:,labels[idx],:,:].reshape((1,16))})#X:train_x[idx].reshape((1,)+im_shape),y:labels[idx].reshape(1,1)})\n",
    "  #  plt.imshow(tf.reshape(recon,[-1,28,28]))\n",
    "    r = np.asarray(recon).reshape((28,28))\n",
    "    plt.imshow(r)\n",
    "    #plt.imshow(recon[0].)"
   ]
  },
  {
   "cell_type": "code",
   "execution_count": 42,
   "metadata": {
    "scrolled": false
   },
   "outputs": [
    {
     "name": "stdout",
     "output_type": "stream",
     "text": [
      "INFO:tensorflow:Restoring parameters from ../checkpoints/capsnet_v1.ckpt\n",
      "Epoch 0\n",
      "Loss: 0.90251493\n",
      "Loss: 0.6344007\n",
      "Loss: 0.1525443\n",
      "Loss: 0.2874337\n",
      "Model saved\n"
     ]
    },
    {
     "ename": "KeyboardInterrupt",
     "evalue": "",
     "output_type": "error",
     "traceback": [
      "\u001b[0;31m---------------------------------------------------------------------------\u001b[0m",
      "\u001b[0;31mKeyboardInterrupt\u001b[0m                         Traceback (most recent call last)",
      "\u001b[0;32m<ipython-input-42-6d8ea0068bb7>\u001b[0m in \u001b[0;36m<module>\u001b[0;34m()\u001b[0m\n\u001b[1;32m      7\u001b[0m             \u001b[0mprint\u001b[0m\u001b[0;34m(\u001b[0m\u001b[0;34m'Epoch '\u001b[0m \u001b[0;34m+\u001b[0m \u001b[0mstr\u001b[0m\u001b[0;34m(\u001b[0m\u001b[0me\u001b[0m\u001b[0;34m)\u001b[0m\u001b[0;34m)\u001b[0m\u001b[0;34m\u001b[0m\u001b[0m\n\u001b[1;32m      8\u001b[0m             \u001b[0;32mfor\u001b[0m \u001b[0mi\u001b[0m \u001b[0;32min\u001b[0m \u001b[0mrange\u001b[0m\u001b[0;34m(\u001b[0m\u001b[0;36m40000\u001b[0m\u001b[0;34m)\u001b[0m\u001b[0;34m:\u001b[0m\u001b[0;34m\u001b[0m\u001b[0m\n\u001b[0;32m----> 9\u001b[0;31m                 \u001b[0msess\u001b[0m\u001b[0;34m.\u001b[0m\u001b[0mrun\u001b[0m\u001b[0;34m(\u001b[0m\u001b[0mtrain\u001b[0m\u001b[0;34m,\u001b[0m\u001b[0;34m{\u001b[0m\u001b[0mX\u001b[0m\u001b[0;34m:\u001b[0m\u001b[0mtrain_x\u001b[0m\u001b[0;34m[\u001b[0m\u001b[0mi\u001b[0m\u001b[0;34m]\u001b[0m\u001b[0;34m.\u001b[0m\u001b[0mreshape\u001b[0m\u001b[0;34m(\u001b[0m\u001b[0;34m(\u001b[0m\u001b[0;36m1\u001b[0m\u001b[0;34m,\u001b[0m\u001b[0;34m)\u001b[0m\u001b[0;34m+\u001b[0m\u001b[0mim_shape\u001b[0m\u001b[0;34m)\u001b[0m\u001b[0;34m,\u001b[0m\u001b[0my\u001b[0m\u001b[0;34m:\u001b[0m\u001b[0mlabels\u001b[0m\u001b[0;34m[\u001b[0m\u001b[0mi\u001b[0m\u001b[0;34m]\u001b[0m\u001b[0;34m.\u001b[0m\u001b[0mreshape\u001b[0m\u001b[0;34m(\u001b[0m\u001b[0;36m1\u001b[0m\u001b[0;34m,\u001b[0m\u001b[0;36m1\u001b[0m\u001b[0;34m)\u001b[0m\u001b[0;34m}\u001b[0m\u001b[0;34m)\u001b[0m\u001b[0;34m\u001b[0m\u001b[0m\n\u001b[0m\u001b[1;32m     10\u001b[0m                 \u001b[0;32mif\u001b[0m \u001b[0mi\u001b[0m\u001b[0;34m%\u001b[0m\u001b[0;36m100\u001b[0m\u001b[0;34m==\u001b[0m\u001b[0;36m0\u001b[0m\u001b[0;34m:\u001b[0m\u001b[0;34m\u001b[0m\u001b[0m\n\u001b[1;32m     11\u001b[0m                     \u001b[0;31m#saver.save(sess,'./checkpoints/capsnet_v1.ckpt')\u001b[0m\u001b[0;34m\u001b[0m\u001b[0;34m\u001b[0m\u001b[0m\n",
      "\u001b[0;32m~/.local/lib/python3.6/site-packages/tensorflow/python/client/session.py\u001b[0m in \u001b[0;36mrun\u001b[0;34m(self, fetches, feed_dict, options, run_metadata)\u001b[0m\n\u001b[1;32m    898\u001b[0m     \u001b[0;32mtry\u001b[0m\u001b[0;34m:\u001b[0m\u001b[0;34m\u001b[0m\u001b[0m\n\u001b[1;32m    899\u001b[0m       result = self._run(None, fetches, feed_dict, options_ptr,\n\u001b[0;32m--> 900\u001b[0;31m                          run_metadata_ptr)\n\u001b[0m\u001b[1;32m    901\u001b[0m       \u001b[0;32mif\u001b[0m \u001b[0mrun_metadata\u001b[0m\u001b[0;34m:\u001b[0m\u001b[0;34m\u001b[0m\u001b[0m\n\u001b[1;32m    902\u001b[0m         \u001b[0mproto_data\u001b[0m \u001b[0;34m=\u001b[0m \u001b[0mtf_session\u001b[0m\u001b[0;34m.\u001b[0m\u001b[0mTF_GetBuffer\u001b[0m\u001b[0;34m(\u001b[0m\u001b[0mrun_metadata_ptr\u001b[0m\u001b[0;34m)\u001b[0m\u001b[0;34m\u001b[0m\u001b[0m\n",
      "\u001b[0;32m~/.local/lib/python3.6/site-packages/tensorflow/python/client/session.py\u001b[0m in \u001b[0;36m_run\u001b[0;34m(self, handle, fetches, feed_dict, options, run_metadata)\u001b[0m\n\u001b[1;32m   1133\u001b[0m     \u001b[0;32mif\u001b[0m \u001b[0mfinal_fetches\u001b[0m \u001b[0;32mor\u001b[0m \u001b[0mfinal_targets\u001b[0m \u001b[0;32mor\u001b[0m \u001b[0;34m(\u001b[0m\u001b[0mhandle\u001b[0m \u001b[0;32mand\u001b[0m \u001b[0mfeed_dict_tensor\u001b[0m\u001b[0;34m)\u001b[0m\u001b[0;34m:\u001b[0m\u001b[0;34m\u001b[0m\u001b[0m\n\u001b[1;32m   1134\u001b[0m       results = self._do_run(handle, final_targets, final_fetches,\n\u001b[0;32m-> 1135\u001b[0;31m                              feed_dict_tensor, options, run_metadata)\n\u001b[0m\u001b[1;32m   1136\u001b[0m     \u001b[0;32melse\u001b[0m\u001b[0;34m:\u001b[0m\u001b[0;34m\u001b[0m\u001b[0m\n\u001b[1;32m   1137\u001b[0m       \u001b[0mresults\u001b[0m \u001b[0;34m=\u001b[0m \u001b[0;34m[\u001b[0m\u001b[0;34m]\u001b[0m\u001b[0;34m\u001b[0m\u001b[0m\n",
      "\u001b[0;32m~/.local/lib/python3.6/site-packages/tensorflow/python/client/session.py\u001b[0m in \u001b[0;36m_do_run\u001b[0;34m(self, handle, target_list, fetch_list, feed_dict, options, run_metadata)\u001b[0m\n\u001b[1;32m   1314\u001b[0m     \u001b[0;32mif\u001b[0m \u001b[0mhandle\u001b[0m \u001b[0;32mis\u001b[0m \u001b[0;32mNone\u001b[0m\u001b[0;34m:\u001b[0m\u001b[0;34m\u001b[0m\u001b[0m\n\u001b[1;32m   1315\u001b[0m       return self._do_call(_run_fn, feeds, fetches, targets, options,\n\u001b[0;32m-> 1316\u001b[0;31m                            run_metadata)\n\u001b[0m\u001b[1;32m   1317\u001b[0m     \u001b[0;32melse\u001b[0m\u001b[0;34m:\u001b[0m\u001b[0;34m\u001b[0m\u001b[0m\n\u001b[1;32m   1318\u001b[0m       \u001b[0;32mreturn\u001b[0m \u001b[0mself\u001b[0m\u001b[0;34m.\u001b[0m\u001b[0m_do_call\u001b[0m\u001b[0;34m(\u001b[0m\u001b[0m_prun_fn\u001b[0m\u001b[0;34m,\u001b[0m \u001b[0mhandle\u001b[0m\u001b[0;34m,\u001b[0m \u001b[0mfeeds\u001b[0m\u001b[0;34m,\u001b[0m \u001b[0mfetches\u001b[0m\u001b[0;34m)\u001b[0m\u001b[0;34m\u001b[0m\u001b[0m\n",
      "\u001b[0;32m~/.local/lib/python3.6/site-packages/tensorflow/python/client/session.py\u001b[0m in \u001b[0;36m_do_call\u001b[0;34m(self, fn, *args)\u001b[0m\n\u001b[1;32m   1320\u001b[0m   \u001b[0;32mdef\u001b[0m \u001b[0m_do_call\u001b[0m\u001b[0;34m(\u001b[0m\u001b[0mself\u001b[0m\u001b[0;34m,\u001b[0m \u001b[0mfn\u001b[0m\u001b[0;34m,\u001b[0m \u001b[0;34m*\u001b[0m\u001b[0margs\u001b[0m\u001b[0;34m)\u001b[0m\u001b[0;34m:\u001b[0m\u001b[0;34m\u001b[0m\u001b[0m\n\u001b[1;32m   1321\u001b[0m     \u001b[0;32mtry\u001b[0m\u001b[0;34m:\u001b[0m\u001b[0;34m\u001b[0m\u001b[0m\n\u001b[0;32m-> 1322\u001b[0;31m       \u001b[0;32mreturn\u001b[0m \u001b[0mfn\u001b[0m\u001b[0;34m(\u001b[0m\u001b[0;34m*\u001b[0m\u001b[0margs\u001b[0m\u001b[0;34m)\u001b[0m\u001b[0;34m\u001b[0m\u001b[0m\n\u001b[0m\u001b[1;32m   1323\u001b[0m     \u001b[0;32mexcept\u001b[0m \u001b[0merrors\u001b[0m\u001b[0;34m.\u001b[0m\u001b[0mOpError\u001b[0m \u001b[0;32mas\u001b[0m \u001b[0me\u001b[0m\u001b[0;34m:\u001b[0m\u001b[0;34m\u001b[0m\u001b[0m\n\u001b[1;32m   1324\u001b[0m       \u001b[0mmessage\u001b[0m \u001b[0;34m=\u001b[0m \u001b[0mcompat\u001b[0m\u001b[0;34m.\u001b[0m\u001b[0mas_text\u001b[0m\u001b[0;34m(\u001b[0m\u001b[0me\u001b[0m\u001b[0;34m.\u001b[0m\u001b[0mmessage\u001b[0m\u001b[0;34m)\u001b[0m\u001b[0;34m\u001b[0m\u001b[0m\n",
      "\u001b[0;32m~/.local/lib/python3.6/site-packages/tensorflow/python/client/session.py\u001b[0m in \u001b[0;36m_run_fn\u001b[0;34m(feed_dict, fetch_list, target_list, options, run_metadata)\u001b[0m\n\u001b[1;32m   1305\u001b[0m       \u001b[0mself\u001b[0m\u001b[0;34m.\u001b[0m\u001b[0m_extend_graph\u001b[0m\u001b[0;34m(\u001b[0m\u001b[0;34m)\u001b[0m\u001b[0;34m\u001b[0m\u001b[0m\n\u001b[1;32m   1306\u001b[0m       return self._call_tf_sessionrun(\n\u001b[0;32m-> 1307\u001b[0;31m           options, feed_dict, fetch_list, target_list, run_metadata)\n\u001b[0m\u001b[1;32m   1308\u001b[0m \u001b[0;34m\u001b[0m\u001b[0m\n\u001b[1;32m   1309\u001b[0m     \u001b[0;32mdef\u001b[0m \u001b[0m_prun_fn\u001b[0m\u001b[0;34m(\u001b[0m\u001b[0mhandle\u001b[0m\u001b[0;34m,\u001b[0m \u001b[0mfeed_dict\u001b[0m\u001b[0;34m,\u001b[0m \u001b[0mfetch_list\u001b[0m\u001b[0;34m)\u001b[0m\u001b[0;34m:\u001b[0m\u001b[0;34m\u001b[0m\u001b[0m\n",
      "\u001b[0;32m~/.local/lib/python3.6/site-packages/tensorflow/python/client/session.py\u001b[0m in \u001b[0;36m_call_tf_sessionrun\u001b[0;34m(self, options, feed_dict, fetch_list, target_list, run_metadata)\u001b[0m\n\u001b[1;32m   1407\u001b[0m       return tf_session.TF_SessionRun_wrapper(\n\u001b[1;32m   1408\u001b[0m           \u001b[0mself\u001b[0m\u001b[0;34m.\u001b[0m\u001b[0m_session\u001b[0m\u001b[0;34m,\u001b[0m \u001b[0moptions\u001b[0m\u001b[0;34m,\u001b[0m \u001b[0mfeed_dict\u001b[0m\u001b[0;34m,\u001b[0m \u001b[0mfetch_list\u001b[0m\u001b[0;34m,\u001b[0m \u001b[0mtarget_list\u001b[0m\u001b[0;34m,\u001b[0m\u001b[0;34m\u001b[0m\u001b[0m\n\u001b[0;32m-> 1409\u001b[0;31m           run_metadata)\n\u001b[0m\u001b[1;32m   1410\u001b[0m     \u001b[0;32melse\u001b[0m\u001b[0;34m:\u001b[0m\u001b[0;34m\u001b[0m\u001b[0m\n\u001b[1;32m   1411\u001b[0m       \u001b[0;32mwith\u001b[0m \u001b[0merrors\u001b[0m\u001b[0;34m.\u001b[0m\u001b[0mraise_exception_on_not_ok_status\u001b[0m\u001b[0;34m(\u001b[0m\u001b[0;34m)\u001b[0m \u001b[0;32mas\u001b[0m \u001b[0mstatus\u001b[0m\u001b[0;34m:\u001b[0m\u001b[0;34m\u001b[0m\u001b[0m\n",
      "\u001b[0;31mKeyboardInterrupt\u001b[0m: "
     ]
    }
   ],
   "source": [
    "\n",
    "with tf.Session() as sess:\n",
    "    try:\n",
    "        sess.run(tf.global_variables_initializer())\n",
    "        saver.restore(sess, '../checkpoints/capsnet_v1.ckpt')\n",
    "        for e in range(epochs):\n",
    "            print('Epoch ' + str(e))\n",
    "            for i in range(40000):\n",
    "                sess.run(train,{X:train_x[i].reshape((1,)+im_shape),y:labels[i].reshape(1,1)})\n",
    "                if i%100==0:\n",
    "                    #saver.save(sess,'./checkpoints/capsnet_v1.ckpt')\n",
    "                    print('Loss: ' + str(sess.run(L_total,{X:train_x[i].reshape((1,)+im_shape),y:labels[i].reshape(1,1)})))\n",
    "    except Exception as e1:\n",
    "        print(e1)\n",
    "    finally:\n",
    "        #saver.save(sess,'./checkpoints/capsnet_v1.ckpt')\n",
    "        print('Model saved')"
   ]
  },
  {
   "cell_type": "code",
   "execution_count": 17,
   "metadata": {},
   "outputs": [
    {
     "data": {
      "text/plain": [
       "TensorShape([Dimension(None), Dimension(1), Dimension(10), Dimension(1), Dimension(1)])"
      ]
     },
     "execution_count": 17,
     "metadata": {},
     "output_type": "execute_result"
    },
    {
     "name": "stderr",
     "output_type": "stream",
     "text": [
      "/home/naren/.local/lib/python3.6/site-packages/tqdm/_monitor.py:89: TqdmSynchronisationWarning: Set changed size during iteration (see https://github.com/tqdm/tqdm/issues/481)\n",
      "  TqdmSynchronisationWarning)\n"
     ]
    }
   ],
   "source": [
    "y_prob.shape"
   ]
  },
  {
   "cell_type": "code",
   "execution_count": null,
   "metadata": {},
   "outputs": [],
   "source": []
  }
 ],
 "metadata": {
  "kernelspec": {
   "display_name": "Python 3",
   "language": "python",
   "name": "python3"
  },
  "language_info": {
   "codemirror_mode": {
    "name": "ipython",
    "version": 3
   },
   "file_extension": ".py",
   "mimetype": "text/x-python",
   "name": "python",
   "nbconvert_exporter": "python",
   "pygments_lexer": "ipython3",
   "version": "3.6.3"
  }
 },
 "nbformat": 4,
 "nbformat_minor": 2
}
